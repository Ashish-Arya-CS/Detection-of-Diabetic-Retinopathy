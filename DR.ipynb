{
  "nbformat": 4,
  "nbformat_minor": 0,
  "metadata": {
    "colab": {
      "name": "DR.ipynb",
      "provenance": [],
      "collapsed_sections": []
    },
    "kernelspec": {
      "name": "python3",
      "display_name": "Python 3"
    },
    "accelerator": "GPU"
  },
  "cells": [
    {
      "cell_type": "code",
      "metadata": {
        "id": "KN4gkw42rCjV",
        "colab_type": "code",
        "colab": {}
      },
      "source": [
        "!pip install -q pyyaml h5py"
      ],
      "execution_count": null,
      "outputs": []
    },
    {
      "cell_type": "code",
      "metadata": {
        "id": "ZTyOByyVro_I",
        "colab_type": "code",
        "colab": {}
      },
      "source": [
        "%matplotlib inline\n",
        "\n",
        "import os\n",
        "import shutil\n",
        "import random\n",
        "\n",
        "import numpy as np\n",
        "import cv2\n",
        "\n",
        "from PIL import Image, ImageOps\n",
        "from matplotlib import pyplot as plt\n",
        "\n",
        "import tensorflow as tf\n",
        "from tensorflow.keras.preprocessing.image import ImageDataGenerator\n",
        "from keras.callbacks import ModelCheckpoint\n",
        "from keras.models import load_model\n",
        "\n",
        "import time\n"
      ],
      "execution_count": null,
      "outputs": []
    },
    {
      "cell_type": "code",
      "metadata": {
        "id": "xImHE9GCrsQB",
        "colab_type": "code",
        "colab": {
          "base_uri": "https://localhost:8080/",
          "height": 156
        },
        "outputId": "439959cd-38e6-4985-ae1b-a20518fcadfb"
      },
      "source": [
        "datagen = ImageDataGenerator(rescale=1./255,\n",
        "                                      zoom_range=0.2,\n",
        "                                      width_shift_range=0.2,\n",
        "                                      height_shift_range=0.2,\n",
        "                                      validation_split=0.2\n",
        "                                      )\n",
        "train_data = datagen.flow_from_directory('/content/DR/',\n",
        "                                          target_size=(128,128),\n",
        "                                          batch_size=50,\n",
        "                                          class_mode = 'categorical',\n",
        "                                          subset = 'training')\n",
        "\n",
        "valid_data = datagen.flow_from_directory('/content/DR/',\n",
        "                                         target_size=(128,128),\n",
        "                                         batch_size=50,\n",
        "                                         class_mode = 'categorical',\n",
        "                                         subset = 'validation')\n",
        "train_data.class_indices"
      ],
      "execution_count": null,
      "outputs": [
        {
          "output_type": "stream",
          "text": [
            "Found 3896 images belonging to 6 classes.\n",
            "Found 973 images belonging to 6 classes.\n"
          ],
          "name": "stdout"
        },
        {
          "output_type": "execute_result",
          "data": {
            "text/plain": [
              "{'.ipynb_checkpoints': 0,\n",
              " 'Mild': 1,\n",
              " 'Moderate': 2,\n",
              " 'No_DR': 3,\n",
              " 'Proliferate_DR': 4,\n",
              " 'Severe': 5}"
            ]
          },
          "metadata": {
            "tags": []
          },
          "execution_count": 3
        }
      ]
    },
    {
      "cell_type": "code",
      "metadata": {
        "id": "Gv8JXTwF35gG",
        "colab_type": "code",
        "colab": {
          "base_uri": "https://localhost:8080/",
          "height": 35
        },
        "outputId": "ab599bbe-2ae2-43d1-bd32-56a2d93f56d6"
      },
      "source": [
        "!pip install -q efficientnet\n"
      ],
      "execution_count": null,
      "outputs": [
        {
          "output_type": "stream",
          "text": [
            "\u001b[?25l\r\u001b[K     |██████▌                         | 10kB 28.3MB/s eta 0:00:01\r\u001b[K     |█████████████                   | 20kB 16.6MB/s eta 0:00:01\r\u001b[K     |███████████████████▍            | 30kB 16.0MB/s eta 0:00:01\r\u001b[K     |█████████████████████████▉      | 40kB 11.9MB/s eta 0:00:01\r\u001b[K     |████████████████████████████████| 51kB 4.8MB/s \n",
            "\u001b[?25h"
          ],
          "name": "stdout"
        }
      ]
    },
    {
      "cell_type": "code",
      "metadata": {
        "id": "7PMSINo237dp",
        "colab_type": "code",
        "colab": {}
      },
      "source": [
        "import efficientnet.tfkeras as efn"
      ],
      "execution_count": null,
      "outputs": []
    },
    {
      "cell_type": "code",
      "metadata": {
        "id": "LXc_qo_vr_Cz",
        "colab_type": "code",
        "colab": {
          "base_uri": "https://localhost:8080/",
          "height": 295
        },
        "outputId": "4b3ebe5b-df2a-45ed-b7e5-43686b9ee958"
      },
      "source": [
        "model5b = tf.keras.Sequential([\n",
        "        efn.EfficientNetB3(\n",
        "            input_shape=(128,128, 3),\n",
        "            weights='imagenet',\n",
        "            include_top=False\n",
        "        ),\n",
        "        tf.keras.layers.GlobalAveragePooling2D(),\n",
        "        tf.keras.layers.Dropout(0.4),\n",
        "        tf.keras.layers.Dense(6, activation='softmax')\n",
        "    ])\n",
        "model5b.summary()"
      ],
      "execution_count": null,
      "outputs": [
        {
          "output_type": "stream",
          "text": [
            "Model: \"sequential_1\"\n",
            "_________________________________________________________________\n",
            "Layer (type)                 Output Shape              Param #   \n",
            "=================================================================\n",
            "efficientnet-b3 (Functional) (None, 4, 4, 1536)        10783528  \n",
            "_________________________________________________________________\n",
            "global_average_pooling2d_1 ( (None, 1536)              0         \n",
            "_________________________________________________________________\n",
            "dropout_1 (Dropout)          (None, 1536)              0         \n",
            "_________________________________________________________________\n",
            "dense_1 (Dense)              (None, 6)                 9222      \n",
            "=================================================================\n",
            "Total params: 10,792,750\n",
            "Trainable params: 10,705,454\n",
            "Non-trainable params: 87,296\n",
            "_________________________________________________________________\n"
          ],
          "name": "stdout"
        }
      ]
    },
    {
      "cell_type": "code",
      "metadata": {
        "id": "H_g0AZbWsBvU",
        "colab_type": "code",
        "colab": {}
      },
      "source": [
        "mcB3 = ModelCheckpoint('best_modelB3b.h5', monitor='val_acc', mode='max', verbose=1, save_best_only=True)\n",
        "\n",
        "model5b.compile(optimizer=tf.keras.optimizers.Adam(lr=0.0001),loss='categorical_crossentropy',metrics=['acc'])"
      ],
      "execution_count": null,
      "outputs": []
    },
    {
      "cell_type": "code",
      "metadata": {
        "id": "75WvTO_GsF2h",
        "colab_type": "code",
        "colab": {
          "base_uri": "https://localhost:8080/",
          "height": 1000
        },
        "outputId": "4b8f5d8f-ce0d-4ffd-bb18-249c6cd0ef45"
      },
      "source": [
        "history = model5b.fit(train_data,\n",
        "            validation_data = valid_data,\n",
        "            \n",
        "            epochs = 100,\n",
        "            \n",
        "            verbose = 1,\n",
        "            callbacks = mcB3)"
      ],
      "execution_count": null,
      "outputs": [
        {
          "output_type": "stream",
          "text": [
            "Epoch 1/100\n",
            "78/78 [==============================] - ETA: 0s - loss: 1.4012 - acc: 0.4325\n",
            "Epoch 00001: val_acc improved from -inf to 0.39671, saving model to best_modelB3b.h5\n",
            "78/78 [==============================] - 36s 468ms/step - loss: 1.4012 - acc: 0.4325 - val_loss: 1.4082 - val_acc: 0.3967\n",
            "Epoch 2/100\n",
            "78/78 [==============================] - ETA: 0s - loss: 1.1414 - acc: 0.5200\n",
            "Epoch 00002: val_acc improved from 0.39671 to 0.43679, saving model to best_modelB3b.h5\n",
            "78/78 [==============================] - 35s 443ms/step - loss: 1.1414 - acc: 0.5200 - val_loss: 1.3202 - val_acc: 0.4368\n",
            "Epoch 3/100\n",
            "78/78 [==============================] - ETA: 0s - loss: 1.0610 - acc: 0.5501\n",
            "Epoch 00003: val_acc improved from 0.43679 to 0.50668, saving model to best_modelB3b.h5\n",
            "78/78 [==============================] - 34s 441ms/step - loss: 1.0610 - acc: 0.5501 - val_loss: 1.1660 - val_acc: 0.5067\n",
            "Epoch 4/100\n",
            "78/78 [==============================] - ETA: 0s - loss: 0.9982 - acc: 0.5844\n",
            "Epoch 00004: val_acc improved from 0.50668 to 0.57143, saving model to best_modelB3b.h5\n",
            "78/78 [==============================] - 34s 440ms/step - loss: 0.9982 - acc: 0.5844 - val_loss: 1.0438 - val_acc: 0.5714\n",
            "Epoch 5/100\n",
            "78/78 [==============================] - ETA: 0s - loss: 0.9673 - acc: 0.5986\n",
            "Epoch 00005: val_acc improved from 0.57143 to 0.58787, saving model to best_modelB3b.h5\n",
            "78/78 [==============================] - 35s 442ms/step - loss: 0.9673 - acc: 0.5986 - val_loss: 0.9957 - val_acc: 0.5879\n",
            "Epoch 6/100\n",
            "78/78 [==============================] - ETA: 0s - loss: 0.9431 - acc: 0.6055\n",
            "Epoch 00006: val_acc improved from 0.58787 to 0.62487, saving model to best_modelB3b.h5\n",
            "78/78 [==============================] - 35s 445ms/step - loss: 0.9431 - acc: 0.6055 - val_loss: 0.9392 - val_acc: 0.6249\n",
            "Epoch 7/100\n",
            "78/78 [==============================] - ETA: 0s - loss: 0.8988 - acc: 0.6206\n",
            "Epoch 00007: val_acc improved from 0.62487 to 0.64337, saving model to best_modelB3b.h5\n",
            "78/78 [==============================] - 34s 437ms/step - loss: 0.8988 - acc: 0.6206 - val_loss: 0.8965 - val_acc: 0.6434\n",
            "Epoch 8/100\n",
            "78/78 [==============================] - ETA: 0s - loss: 0.8652 - acc: 0.6486\n",
            "Epoch 00008: val_acc did not improve from 0.64337\n",
            "78/78 [==============================] - 33s 420ms/step - loss: 0.8652 - acc: 0.6486 - val_loss: 0.8782 - val_acc: 0.6362\n",
            "Epoch 9/100\n",
            "78/78 [==============================] - ETA: 0s - loss: 0.8187 - acc: 0.6591\n",
            "Epoch 00009: val_acc did not improve from 0.64337\n",
            "78/78 [==============================] - 33s 421ms/step - loss: 0.8187 - acc: 0.6591 - val_loss: 0.8746 - val_acc: 0.6434\n",
            "Epoch 10/100\n",
            "78/78 [==============================] - ETA: 0s - loss: 0.8077 - acc: 0.6676\n",
            "Epoch 00010: val_acc improved from 0.64337 to 0.67009, saving model to best_modelB3b.h5\n",
            "78/78 [==============================] - 34s 435ms/step - loss: 0.8077 - acc: 0.6676 - val_loss: 0.8488 - val_acc: 0.6701\n",
            "Epoch 11/100\n",
            "78/78 [==============================] - ETA: 0s - loss: 0.7736 - acc: 0.6833\n",
            "Epoch 00011: val_acc improved from 0.67009 to 0.67112, saving model to best_modelB3b.h5\n",
            "78/78 [==============================] - 34s 436ms/step - loss: 0.7736 - acc: 0.6833 - val_loss: 0.8305 - val_acc: 0.6711\n",
            "Epoch 12/100\n",
            "78/78 [==============================] - ETA: 0s - loss: 0.7460 - acc: 0.7071\n",
            "Epoch 00012: val_acc improved from 0.67112 to 0.67729, saving model to best_modelB3b.h5\n",
            "78/78 [==============================] - 34s 435ms/step - loss: 0.7460 - acc: 0.7071 - val_loss: 0.8319 - val_acc: 0.6773\n",
            "Epoch 13/100\n",
            "78/78 [==============================] - ETA: 0s - loss: 0.7192 - acc: 0.7092\n",
            "Epoch 00013: val_acc did not improve from 0.67729\n",
            "78/78 [==============================] - 33s 424ms/step - loss: 0.7192 - acc: 0.7092 - val_loss: 0.8575 - val_acc: 0.6650\n",
            "Epoch 14/100\n",
            "78/78 [==============================] - ETA: 0s - loss: 0.6814 - acc: 0.7297\n",
            "Epoch 00014: val_acc did not improve from 0.67729\n",
            "78/78 [==============================] - 33s 419ms/step - loss: 0.6814 - acc: 0.7297 - val_loss: 0.8974 - val_acc: 0.6701\n",
            "Epoch 15/100\n",
            "78/78 [==============================] - ETA: 0s - loss: 0.6588 - acc: 0.7336\n",
            "Epoch 00015: val_acc improved from 0.67729 to 0.69579, saving model to best_modelB3b.h5\n",
            "78/78 [==============================] - 34s 434ms/step - loss: 0.6588 - acc: 0.7336 - val_loss: 0.8237 - val_acc: 0.6958\n",
            "Epoch 16/100\n",
            "78/78 [==============================] - ETA: 0s - loss: 0.6505 - acc: 0.7336\n",
            "Epoch 00016: val_acc did not improve from 0.69579\n",
            "78/78 [==============================] - 33s 423ms/step - loss: 0.6505 - acc: 0.7336 - val_loss: 0.8498 - val_acc: 0.6721\n",
            "Epoch 17/100\n",
            "78/78 [==============================] - ETA: 0s - loss: 0.6200 - acc: 0.7564\n",
            "Epoch 00017: val_acc improved from 0.69579 to 0.71840, saving model to best_modelB3b.h5\n",
            "78/78 [==============================] - 34s 433ms/step - loss: 0.6200 - acc: 0.7564 - val_loss: 0.7850 - val_acc: 0.7184\n",
            "Epoch 18/100\n",
            "78/78 [==============================] - ETA: 0s - loss: 0.5923 - acc: 0.7703\n",
            "Epoch 00018: val_acc did not improve from 0.71840\n",
            "78/78 [==============================] - 33s 420ms/step - loss: 0.5923 - acc: 0.7703 - val_loss: 0.7487 - val_acc: 0.7163\n",
            "Epoch 19/100\n",
            "78/78 [==============================] - ETA: 0s - loss: 0.5638 - acc: 0.7726\n",
            "Epoch 00019: val_acc did not improve from 0.71840\n",
            "78/78 [==============================] - 33s 420ms/step - loss: 0.5638 - acc: 0.7726 - val_loss: 0.8165 - val_acc: 0.7102\n",
            "Epoch 20/100\n",
            "78/78 [==============================] - ETA: 0s - loss: 0.5382 - acc: 0.7841\n",
            "Epoch 00020: val_acc did not improve from 0.71840\n",
            "78/78 [==============================] - 33s 420ms/step - loss: 0.5382 - acc: 0.7841 - val_loss: 0.7845 - val_acc: 0.7143\n",
            "Epoch 21/100\n",
            "78/78 [==============================] - ETA: 0s - loss: 0.5280 - acc: 0.7870\n",
            "Epoch 00021: val_acc improved from 0.71840 to 0.72456, saving model to best_modelB3b.h5\n",
            "78/78 [==============================] - 34s 430ms/step - loss: 0.5280 - acc: 0.7870 - val_loss: 0.7891 - val_acc: 0.7246\n",
            "Epoch 22/100\n",
            "78/78 [==============================] - ETA: 0s - loss: 0.5098 - acc: 0.7977\n",
            "Epoch 00022: val_acc did not improve from 0.72456\n",
            "78/78 [==============================] - 33s 421ms/step - loss: 0.5098 - acc: 0.7977 - val_loss: 0.7948 - val_acc: 0.7235\n",
            "Epoch 23/100\n",
            "78/78 [==============================] - ETA: 0s - loss: 0.4816 - acc: 0.8047\n",
            "Epoch 00023: val_acc improved from 0.72456 to 0.73279, saving model to best_modelB3b.h5\n",
            "78/78 [==============================] - 34s 433ms/step - loss: 0.4816 - acc: 0.8047 - val_loss: 0.7850 - val_acc: 0.7328\n",
            "Epoch 24/100\n",
            "78/78 [==============================] - ETA: 0s - loss: 0.4826 - acc: 0.8116\n",
            "Epoch 00024: val_acc did not improve from 0.73279\n",
            "78/78 [==============================] - 33s 420ms/step - loss: 0.4826 - acc: 0.8116 - val_loss: 0.8569 - val_acc: 0.7122\n",
            "Epoch 25/100\n",
            "78/78 [==============================] - ETA: 0s - loss: 0.4658 - acc: 0.8126\n",
            "Epoch 00025: val_acc did not improve from 0.73279\n",
            "78/78 [==============================] - 33s 420ms/step - loss: 0.4658 - acc: 0.8126 - val_loss: 0.8137 - val_acc: 0.7287\n",
            "Epoch 26/100\n",
            "78/78 [==============================] - ETA: 0s - loss: 0.4274 - acc: 0.8237\n",
            "Epoch 00026: val_acc improved from 0.73279 to 0.75128, saving model to best_modelB3b.h5\n",
            "78/78 [==============================] - 34s 433ms/step - loss: 0.4274 - acc: 0.8237 - val_loss: 0.7610 - val_acc: 0.7513\n",
            "Epoch 27/100\n",
            "78/78 [==============================] - ETA: 0s - loss: 0.4272 - acc: 0.8229\n",
            "Epoch 00027: val_acc did not improve from 0.75128\n",
            "78/78 [==============================] - 33s 422ms/step - loss: 0.4272 - acc: 0.8229 - val_loss: 0.7778 - val_acc: 0.7441\n",
            "Epoch 28/100\n",
            "78/78 [==============================] - ETA: 0s - loss: 0.3907 - acc: 0.8401\n",
            "Epoch 00028: val_acc improved from 0.75128 to 0.76053, saving model to best_modelB3b.h5\n",
            "78/78 [==============================] - 34s 432ms/step - loss: 0.3907 - acc: 0.8401 - val_loss: 0.8269 - val_acc: 0.7605\n",
            "Epoch 29/100\n",
            "78/78 [==============================] - ETA: 0s - loss: 0.4022 - acc: 0.8352\n",
            "Epoch 00029: val_acc did not improve from 0.76053\n",
            "78/78 [==============================] - 33s 423ms/step - loss: 0.4022 - acc: 0.8352 - val_loss: 0.7821 - val_acc: 0.7359\n",
            "Epoch 30/100\n",
            "78/78 [==============================] - ETA: 0s - loss: 0.3854 - acc: 0.8386\n",
            "Epoch 00030: val_acc did not improve from 0.76053\n",
            "78/78 [==============================] - 33s 423ms/step - loss: 0.3854 - acc: 0.8386 - val_loss: 0.7937 - val_acc: 0.7595\n",
            "Epoch 31/100\n",
            "78/78 [==============================] - ETA: 0s - loss: 0.3590 - acc: 0.8506\n",
            "Epoch 00031: val_acc did not improve from 0.76053\n",
            "78/78 [==============================] - 33s 421ms/step - loss: 0.3590 - acc: 0.8506 - val_loss: 0.7641 - val_acc: 0.7451\n",
            "Epoch 32/100\n",
            "78/78 [==============================] - ETA: 0s - loss: 0.3585 - acc: 0.8447\n",
            "Epoch 00032: val_acc improved from 0.76053 to 0.77287, saving model to best_modelB3b.h5\n",
            "78/78 [==============================] - 34s 434ms/step - loss: 0.3585 - acc: 0.8447 - val_loss: 0.6998 - val_acc: 0.7729\n",
            "Epoch 33/100\n",
            "78/78 [==============================] - ETA: 0s - loss: 0.3554 - acc: 0.8509\n",
            "Epoch 00033: val_acc did not improve from 0.77287\n",
            "78/78 [==============================] - 33s 422ms/step - loss: 0.3554 - acc: 0.8509 - val_loss: 0.7679 - val_acc: 0.7554\n",
            "Epoch 34/100\n",
            "78/78 [==============================] - ETA: 0s - loss: 0.3459 - acc: 0.8557\n",
            "Epoch 00034: val_acc did not improve from 0.77287\n",
            "78/78 [==============================] - 33s 425ms/step - loss: 0.3459 - acc: 0.8557 - val_loss: 0.7345 - val_acc: 0.7718\n",
            "Epoch 35/100\n",
            "78/78 [==============================] - ETA: 0s - loss: 0.3186 - acc: 0.8617\n",
            "Epoch 00035: val_acc did not improve from 0.77287\n",
            "78/78 [==============================] - 33s 421ms/step - loss: 0.3186 - acc: 0.8617 - val_loss: 0.8317 - val_acc: 0.7523\n",
            "Epoch 36/100\n",
            "78/78 [==============================] - ETA: 0s - loss: 0.3215 - acc: 0.8655\n",
            "Epoch 00036: val_acc did not improve from 0.77287\n",
            "78/78 [==============================] - 33s 422ms/step - loss: 0.3215 - acc: 0.8655 - val_loss: 0.8167 - val_acc: 0.7626\n",
            "Epoch 37/100\n",
            "78/78 [==============================] - ETA: 0s - loss: 0.3148 - acc: 0.8670\n",
            "Epoch 00037: val_acc did not improve from 0.77287\n",
            "78/78 [==============================] - 33s 422ms/step - loss: 0.3148 - acc: 0.8670 - val_loss: 0.7399 - val_acc: 0.7698\n",
            "Epoch 38/100\n",
            "78/78 [==============================] - ETA: 0s - loss: 0.3143 - acc: 0.8640\n",
            "Epoch 00038: val_acc did not improve from 0.77287\n",
            "78/78 [==============================] - 33s 423ms/step - loss: 0.3143 - acc: 0.8640 - val_loss: 0.8317 - val_acc: 0.7564\n",
            "Epoch 39/100\n",
            "78/78 [==============================] - ETA: 0s - loss: 0.3135 - acc: 0.8655\n",
            "Epoch 00039: val_acc did not improve from 0.77287\n",
            "78/78 [==============================] - 33s 428ms/step - loss: 0.3135 - acc: 0.8655 - val_loss: 0.8218 - val_acc: 0.7636\n",
            "Epoch 40/100\n",
            "78/78 [==============================] - ETA: 0s - loss: 0.2938 - acc: 0.8735\n",
            "Epoch 00040: val_acc improved from 0.77287 to 0.78931, saving model to best_modelB3b.h5\n",
            "78/78 [==============================] - 34s 437ms/step - loss: 0.2938 - acc: 0.8735 - val_loss: 0.8200 - val_acc: 0.7893\n",
            "Epoch 41/100\n",
            "78/78 [==============================] - ETA: 0s - loss: 0.2927 - acc: 0.8742\n",
            "Epoch 00041: val_acc did not improve from 0.78931\n",
            "78/78 [==============================] - 33s 426ms/step - loss: 0.2927 - acc: 0.8742 - val_loss: 0.7176 - val_acc: 0.7893\n",
            "Epoch 42/100\n",
            "78/78 [==============================] - ETA: 0s - loss: 0.2885 - acc: 0.8696\n",
            "Epoch 00042: val_acc did not improve from 0.78931\n",
            "78/78 [==============================] - 33s 424ms/step - loss: 0.2885 - acc: 0.8696 - val_loss: 0.7482 - val_acc: 0.7842\n",
            "Epoch 43/100\n",
            "78/78 [==============================] - ETA: 0s - loss: 0.2727 - acc: 0.8768\n",
            "Epoch 00043: val_acc did not improve from 0.78931\n",
            "78/78 [==============================] - 33s 424ms/step - loss: 0.2727 - acc: 0.8768 - val_loss: 0.8425 - val_acc: 0.7790\n",
            "Epoch 44/100\n",
            "78/78 [==============================] - ETA: 0s - loss: 0.2856 - acc: 0.8737\n",
            "Epoch 00044: val_acc improved from 0.78931 to 0.80267, saving model to best_modelB3b.h5\n",
            "78/78 [==============================] - 34s 437ms/step - loss: 0.2856 - acc: 0.8737 - val_loss: 0.7042 - val_acc: 0.8027\n",
            "Epoch 45/100\n",
            "78/78 [==============================] - ETA: 0s - loss: 0.2627 - acc: 0.8866\n",
            "Epoch 00045: val_acc did not improve from 0.80267\n",
            "78/78 [==============================] - 33s 425ms/step - loss: 0.2627 - acc: 0.8866 - val_loss: 0.8802 - val_acc: 0.7636\n",
            "Epoch 46/100\n",
            "78/78 [==============================] - ETA: 0s - loss: 0.2762 - acc: 0.8794\n",
            "Epoch 00046: val_acc did not improve from 0.80267\n",
            "78/78 [==============================] - 33s 425ms/step - loss: 0.2762 - acc: 0.8794 - val_loss: 0.8732 - val_acc: 0.7708\n",
            "Epoch 47/100\n",
            "78/78 [==============================] - ETA: 0s - loss: 0.2642 - acc: 0.8771\n",
            "Epoch 00047: val_acc did not improve from 0.80267\n",
            "78/78 [==============================] - 34s 433ms/step - loss: 0.2642 - acc: 0.8771 - val_loss: 0.8111 - val_acc: 0.7739\n",
            "Epoch 48/100\n",
            "78/78 [==============================] - ETA: 0s - loss: 0.2595 - acc: 0.8822\n",
            "Epoch 00048: val_acc did not improve from 0.80267\n",
            "78/78 [==============================] - 35s 444ms/step - loss: 0.2595 - acc: 0.8822 - val_loss: 0.7459 - val_acc: 0.7893\n",
            "Epoch 49/100\n",
            "78/78 [==============================] - ETA: 0s - loss: 0.2654 - acc: 0.8806\n",
            "Epoch 00049: val_acc did not improve from 0.80267\n",
            "78/78 [==============================] - 34s 438ms/step - loss: 0.2654 - acc: 0.8806 - val_loss: 0.7977 - val_acc: 0.7667\n",
            "Epoch 50/100\n",
            "78/78 [==============================] - ETA: 0s - loss: 0.2570 - acc: 0.8840\n",
            "Epoch 00050: val_acc did not improve from 0.80267\n",
            "78/78 [==============================] - 34s 434ms/step - loss: 0.2570 - acc: 0.8840 - val_loss: 0.7612 - val_acc: 0.7986\n",
            "Epoch 51/100\n",
            "78/78 [==============================] - ETA: 0s - loss: 0.2531 - acc: 0.8819\n",
            "Epoch 00051: val_acc did not improve from 0.80267\n",
            "78/78 [==============================] - 34s 437ms/step - loss: 0.2531 - acc: 0.8819 - val_loss: 0.7998 - val_acc: 0.7924\n",
            "Epoch 52/100\n",
            "78/78 [==============================] - ETA: 0s - loss: 0.2463 - acc: 0.8855\n",
            "Epoch 00052: val_acc did not improve from 0.80267\n",
            "78/78 [==============================] - 34s 436ms/step - loss: 0.2463 - acc: 0.8855 - val_loss: 0.7368 - val_acc: 0.7996\n",
            "Epoch 53/100\n",
            "78/78 [==============================] - ETA: 0s - loss: 0.2405 - acc: 0.8945\n",
            "Epoch 00053: val_acc improved from 0.80267 to 0.81192, saving model to best_modelB3b.h5\n",
            "78/78 [==============================] - 35s 447ms/step - loss: 0.2405 - acc: 0.8945 - val_loss: 0.7235 - val_acc: 0.8119\n",
            "Epoch 54/100\n",
            "78/78 [==============================] - ETA: 0s - loss: 0.2457 - acc: 0.8855\n",
            "Epoch 00054: val_acc did not improve from 0.81192\n",
            "78/78 [==============================] - 34s 433ms/step - loss: 0.2457 - acc: 0.8855 - val_loss: 0.7953 - val_acc: 0.7914\n",
            "Epoch 55/100\n",
            "78/78 [==============================] - ETA: 0s - loss: 0.2293 - acc: 0.8883\n",
            "Epoch 00055: val_acc did not improve from 0.81192\n",
            "78/78 [==============================] - 34s 432ms/step - loss: 0.2293 - acc: 0.8883 - val_loss: 0.8204 - val_acc: 0.7955\n",
            "Epoch 56/100\n",
            "78/78 [==============================] - ETA: 0s - loss: 0.2374 - acc: 0.8863\n",
            "Epoch 00056: val_acc did not improve from 0.81192\n",
            "78/78 [==============================] - 34s 431ms/step - loss: 0.2374 - acc: 0.8863 - val_loss: 0.8229 - val_acc: 0.7903\n",
            "Epoch 57/100\n",
            "78/78 [==============================] - ETA: 0s - loss: 0.2434 - acc: 0.8827\n",
            "Epoch 00057: val_acc did not improve from 0.81192\n",
            "78/78 [==============================] - 34s 432ms/step - loss: 0.2434 - acc: 0.8827 - val_loss: 0.9213 - val_acc: 0.7780\n",
            "Epoch 58/100\n",
            "78/78 [==============================] - ETA: 0s - loss: 0.2299 - acc: 0.8912\n",
            "Epoch 00058: val_acc did not improve from 0.81192\n",
            "78/78 [==============================] - 33s 428ms/step - loss: 0.2299 - acc: 0.8912 - val_loss: 0.7986 - val_acc: 0.7996\n",
            "Epoch 59/100\n",
            "78/78 [==============================] - ETA: 0s - loss: 0.2284 - acc: 0.8868\n",
            "Epoch 00059: val_acc did not improve from 0.81192\n",
            "78/78 [==============================] - 34s 431ms/step - loss: 0.2284 - acc: 0.8868 - val_loss: 0.8086 - val_acc: 0.8099\n",
            "Epoch 60/100\n",
            "78/78 [==============================] - ETA: 0s - loss: 0.2219 - acc: 0.8960\n",
            "Epoch 00060: val_acc improved from 0.81192 to 0.82323, saving model to best_modelB3b.h5\n",
            "78/78 [==============================] - 34s 440ms/step - loss: 0.2219 - acc: 0.8960 - val_loss: 0.7791 - val_acc: 0.8232\n",
            "Epoch 61/100\n",
            "78/78 [==============================] - ETA: 0s - loss: 0.2211 - acc: 0.8896\n",
            "Epoch 00061: val_acc did not improve from 0.82323\n",
            "78/78 [==============================] - 33s 429ms/step - loss: 0.2211 - acc: 0.8896 - val_loss: 0.7701 - val_acc: 0.8140\n",
            "Epoch 62/100\n",
            "78/78 [==============================] - ETA: 0s - loss: 0.2264 - acc: 0.8937\n",
            "Epoch 00062: val_acc did not improve from 0.82323\n",
            "78/78 [==============================] - 34s 432ms/step - loss: 0.2264 - acc: 0.8937 - val_loss: 0.8095 - val_acc: 0.8047\n",
            "Epoch 63/100\n",
            "78/78 [==============================] - ETA: 0s - loss: 0.2304 - acc: 0.8912\n",
            "Epoch 00063: val_acc did not improve from 0.82323\n",
            "78/78 [==============================] - 34s 430ms/step - loss: 0.2304 - acc: 0.8912 - val_loss: 0.8066 - val_acc: 0.8078\n",
            "Epoch 64/100\n",
            "78/78 [==============================] - ETA: 0s - loss: 0.2404 - acc: 0.8853\n",
            "Epoch 00064: val_acc did not improve from 0.82323\n",
            "78/78 [==============================] - 33s 429ms/step - loss: 0.2404 - acc: 0.8853 - val_loss: 0.8396 - val_acc: 0.7986\n",
            "Epoch 65/100\n",
            "78/78 [==============================] - ETA: 0s - loss: 0.2227 - acc: 0.8871\n",
            "Epoch 00065: val_acc did not improve from 0.82323\n",
            "78/78 [==============================] - 33s 429ms/step - loss: 0.2227 - acc: 0.8871 - val_loss: 0.7500 - val_acc: 0.7975\n",
            "Epoch 66/100\n",
            "78/78 [==============================] - ETA: 0s - loss: 0.2128 - acc: 0.8996\n",
            "Epoch 00066: val_acc did not improve from 0.82323\n",
            "78/78 [==============================] - 33s 428ms/step - loss: 0.2128 - acc: 0.8996 - val_loss: 0.8634 - val_acc: 0.7801\n",
            "Epoch 67/100\n",
            "78/78 [==============================] - ETA: 0s - loss: 0.2191 - acc: 0.8863\n",
            "Epoch 00067: val_acc did not improve from 0.82323\n",
            "78/78 [==============================] - 34s 430ms/step - loss: 0.2191 - acc: 0.8863 - val_loss: 0.8771 - val_acc: 0.7945\n",
            "Epoch 68/100\n",
            "78/78 [==============================] - ETA: 0s - loss: 0.2129 - acc: 0.8894\n",
            "Epoch 00068: val_acc did not improve from 0.82323\n",
            "78/78 [==============================] - 34s 431ms/step - loss: 0.2129 - acc: 0.8894 - val_loss: 0.8478 - val_acc: 0.8058\n",
            "Epoch 69/100\n",
            "78/78 [==============================] - ETA: 0s - loss: 0.2127 - acc: 0.8899\n",
            "Epoch 00069: val_acc did not improve from 0.82323\n",
            "78/78 [==============================] - 34s 430ms/step - loss: 0.2127 - acc: 0.8899 - val_loss: 0.8337 - val_acc: 0.7975\n",
            "Epoch 70/100\n",
            "78/78 [==============================] - ETA: 0s - loss: 0.2113 - acc: 0.8919\n",
            "Epoch 00070: val_acc did not improve from 0.82323\n",
            "78/78 [==============================] - 33s 429ms/step - loss: 0.2113 - acc: 0.8919 - val_loss: 0.8740 - val_acc: 0.8016\n",
            "Epoch 71/100\n",
            "78/78 [==============================] - ETA: 0s - loss: 0.2003 - acc: 0.8953\n",
            "Epoch 00071: val_acc did not improve from 0.82323\n",
            "78/78 [==============================] - 34s 431ms/step - loss: 0.2003 - acc: 0.8953 - val_loss: 0.7151 - val_acc: 0.8191\n",
            "Epoch 72/100\n",
            "78/78 [==============================] - ETA: 0s - loss: 0.2111 - acc: 0.8953\n",
            "Epoch 00072: val_acc did not improve from 0.82323\n",
            "78/78 [==============================] - 33s 428ms/step - loss: 0.2111 - acc: 0.8953 - val_loss: 0.9878 - val_acc: 0.7708\n",
            "Epoch 73/100\n",
            "78/78 [==============================] - ETA: 0s - loss: 0.2216 - acc: 0.8953\n",
            "Epoch 00073: val_acc did not improve from 0.82323\n",
            "78/78 [==============================] - 34s 430ms/step - loss: 0.2216 - acc: 0.8953 - val_loss: 0.9490 - val_acc: 0.7986\n",
            "Epoch 74/100\n",
            "78/78 [==============================] - ETA: 0s - loss: 0.2208 - acc: 0.8917\n",
            "Epoch 00074: val_acc did not improve from 0.82323\n",
            "78/78 [==============================] - 33s 427ms/step - loss: 0.2208 - acc: 0.8917 - val_loss: 0.7435 - val_acc: 0.8109\n",
            "Epoch 75/100\n",
            "78/78 [==============================] - ETA: 0s - loss: 0.2087 - acc: 0.8940\n",
            "Epoch 00075: val_acc did not improve from 0.82323\n",
            "78/78 [==============================] - 33s 425ms/step - loss: 0.2087 - acc: 0.8940 - val_loss: 0.7805 - val_acc: 0.8037\n",
            "Epoch 76/100\n",
            "78/78 [==============================] - ETA: 0s - loss: 0.1999 - acc: 0.8945\n",
            "Epoch 00076: val_acc did not improve from 0.82323\n",
            "78/78 [==============================] - 33s 425ms/step - loss: 0.1999 - acc: 0.8945 - val_loss: 0.7602 - val_acc: 0.8119\n",
            "Epoch 77/100\n",
            "78/78 [==============================] - ETA: 0s - loss: 0.2060 - acc: 0.8945\n",
            "Epoch 00077: val_acc did not improve from 0.82323\n",
            "78/78 [==============================] - 33s 425ms/step - loss: 0.2060 - acc: 0.8945 - val_loss: 0.8483 - val_acc: 0.8068\n",
            "Epoch 78/100\n",
            "78/78 [==============================] - ETA: 0s - loss: 0.2034 - acc: 0.8927\n",
            "Epoch 00078: val_acc did not improve from 0.82323\n",
            "78/78 [==============================] - 33s 425ms/step - loss: 0.2034 - acc: 0.8927 - val_loss: 0.8940 - val_acc: 0.7801\n",
            "Epoch 79/100\n",
            "78/78 [==============================] - ETA: 0s - loss: 0.1997 - acc: 0.8976\n",
            "Epoch 00079: val_acc did not improve from 0.82323\n",
            "78/78 [==============================] - 33s 429ms/step - loss: 0.1997 - acc: 0.8976 - val_loss: 0.8066 - val_acc: 0.8160\n",
            "Epoch 80/100\n",
            "78/78 [==============================] - ETA: 0s - loss: 0.2043 - acc: 0.8950\n",
            "Epoch 00080: val_acc did not improve from 0.82323\n",
            "78/78 [==============================] - 33s 428ms/step - loss: 0.2043 - acc: 0.8950 - val_loss: 0.8311 - val_acc: 0.8109\n",
            "Epoch 81/100\n",
            "78/78 [==============================] - ETA: 0s - loss: 0.1966 - acc: 0.8986\n",
            "Epoch 00081: val_acc did not improve from 0.82323\n",
            "78/78 [==============================] - 33s 427ms/step - loss: 0.1966 - acc: 0.8986 - val_loss: 0.9309 - val_acc: 0.7965\n",
            "Epoch 82/100\n",
            "78/78 [==============================] - ETA: 0s - loss: 0.2111 - acc: 0.8871\n",
            "Epoch 00082: val_acc did not improve from 0.82323\n",
            "78/78 [==============================] - 33s 427ms/step - loss: 0.2111 - acc: 0.8871 - val_loss: 0.9696 - val_acc: 0.7986\n",
            "Epoch 83/100\n",
            "78/78 [==============================] - ETA: 0s - loss: 0.1947 - acc: 0.9025\n",
            "Epoch 00083: val_acc did not improve from 0.82323\n",
            "78/78 [==============================] - 33s 425ms/step - loss: 0.1947 - acc: 0.9025 - val_loss: 0.8396 - val_acc: 0.8068\n",
            "Epoch 84/100\n",
            "78/78 [==============================] - ETA: 0s - loss: 0.1964 - acc: 0.8950\n",
            "Epoch 00084: val_acc did not improve from 0.82323\n",
            "78/78 [==============================] - 33s 425ms/step - loss: 0.1964 - acc: 0.8950 - val_loss: 0.8797 - val_acc: 0.8006\n",
            "Epoch 85/100\n",
            "78/78 [==============================] - ETA: 0s - loss: 0.1983 - acc: 0.8940\n",
            "Epoch 00085: val_acc did not improve from 0.82323\n",
            "78/78 [==============================] - 33s 425ms/step - loss: 0.1983 - acc: 0.8940 - val_loss: 0.8157 - val_acc: 0.8109\n",
            "Epoch 86/100\n",
            "78/78 [==============================] - ETA: 0s - loss: 0.1970 - acc: 0.8996\n",
            "Epoch 00086: val_acc did not improve from 0.82323\n",
            "78/78 [==============================] - 33s 429ms/step - loss: 0.1970 - acc: 0.8996 - val_loss: 0.7900 - val_acc: 0.8212\n",
            "Epoch 87/100\n",
            "78/78 [==============================] - ETA: 0s - loss: 0.1941 - acc: 0.8960\n",
            "Epoch 00087: val_acc did not improve from 0.82323\n",
            "78/78 [==============================] - 33s 427ms/step - loss: 0.1941 - acc: 0.8960 - val_loss: 0.8311 - val_acc: 0.8201\n",
            "Epoch 88/100\n",
            "78/78 [==============================] - ETA: 0s - loss: 0.1969 - acc: 0.8932\n",
            "Epoch 00088: val_acc did not improve from 0.82323\n",
            "78/78 [==============================] - 34s 430ms/step - loss: 0.1969 - acc: 0.8932 - val_loss: 0.9444 - val_acc: 0.8027\n",
            "Epoch 89/100\n",
            "78/78 [==============================] - ETA: 0s - loss: 0.1928 - acc: 0.8922\n",
            "Epoch 00089: val_acc did not improve from 0.82323\n",
            "78/78 [==============================] - 34s 432ms/step - loss: 0.1928 - acc: 0.8922 - val_loss: 0.9162 - val_acc: 0.8150\n",
            "Epoch 90/100\n",
            "78/78 [==============================] - ETA: 0s - loss: 0.1912 - acc: 0.8994\n",
            "Epoch 00090: val_acc improved from 0.82323 to 0.82425, saving model to best_modelB3b.h5\n",
            "78/78 [==============================] - 34s 441ms/step - loss: 0.1912 - acc: 0.8994 - val_loss: 0.7990 - val_acc: 0.8243\n",
            "Epoch 91/100\n",
            "78/78 [==============================] - ETA: 0s - loss: 0.1951 - acc: 0.8978\n",
            "Epoch 00091: val_acc did not improve from 0.82425\n",
            "78/78 [==============================] - 34s 432ms/step - loss: 0.1951 - acc: 0.8978 - val_loss: 0.8949 - val_acc: 0.8068\n",
            "Epoch 92/100\n",
            "78/78 [==============================] - ETA: 0s - loss: 0.1951 - acc: 0.8978\n",
            "Epoch 00092: val_acc did not improve from 0.82425\n",
            "78/78 [==============================] - 33s 429ms/step - loss: 0.1951 - acc: 0.8978 - val_loss: 0.8630 - val_acc: 0.7975\n",
            "Epoch 93/100\n",
            "78/78 [==============================] - ETA: 0s - loss: 0.1910 - acc: 0.8981\n",
            "Epoch 00093: val_acc did not improve from 0.82425\n",
            "78/78 [==============================] - 33s 428ms/step - loss: 0.1910 - acc: 0.8981 - val_loss: 0.8513 - val_acc: 0.8150\n",
            "Epoch 94/100\n",
            "78/78 [==============================] - ETA: 0s - loss: 0.1879 - acc: 0.9012\n",
            "Epoch 00094: val_acc improved from 0.82425 to 0.82734, saving model to best_modelB3b.h5\n",
            "78/78 [==============================] - 34s 438ms/step - loss: 0.1879 - acc: 0.9012 - val_loss: 0.8090 - val_acc: 0.8273\n",
            "Epoch 95/100\n",
            "78/78 [==============================] - ETA: 0s - loss: 0.1957 - acc: 0.8950\n",
            "Epoch 00095: val_acc did not improve from 0.82734\n",
            "78/78 [==============================] - 34s 430ms/step - loss: 0.1957 - acc: 0.8950 - val_loss: 0.8652 - val_acc: 0.8243\n",
            "Epoch 96/100\n",
            "78/78 [==============================] - ETA: 0s - loss: 0.1980 - acc: 0.8981\n",
            "Epoch 00096: val_acc did not improve from 0.82734\n",
            "78/78 [==============================] - 33s 429ms/step - loss: 0.1980 - acc: 0.8981 - val_loss: 0.8257 - val_acc: 0.8160\n",
            "Epoch 97/100\n",
            "78/78 [==============================] - ETA: 0s - loss: 0.1894 - acc: 0.8958\n",
            "Epoch 00097: val_acc did not improve from 0.82734\n",
            "78/78 [==============================] - 33s 427ms/step - loss: 0.1894 - acc: 0.8958 - val_loss: 0.8687 - val_acc: 0.8140\n",
            "Epoch 98/100\n",
            "78/78 [==============================] - ETA: 0s - loss: 0.1994 - acc: 0.8945\n",
            "Epoch 00098: val_acc did not improve from 0.82734\n",
            "78/78 [==============================] - 34s 433ms/step - loss: 0.1994 - acc: 0.8945 - val_loss: 0.8653 - val_acc: 0.8088\n",
            "Epoch 99/100\n",
            "78/78 [==============================] - ETA: 0s - loss: 0.1902 - acc: 0.8989\n",
            "Epoch 00099: val_acc did not improve from 0.82734\n",
            "78/78 [==============================] - 33s 426ms/step - loss: 0.1902 - acc: 0.8989 - val_loss: 0.8636 - val_acc: 0.8253\n",
            "Epoch 100/100\n",
            "78/78 [==============================] - ETA: 0s - loss: 0.1852 - acc: 0.8996\n",
            "Epoch 00100: val_acc did not improve from 0.82734\n",
            "78/78 [==============================] - 33s 427ms/step - loss: 0.1852 - acc: 0.8996 - val_loss: 0.7637 - val_acc: 0.8243\n"
          ],
          "name": "stdout"
        }
      ]
    },
    {
      "cell_type": "code",
      "metadata": {
        "id": "HlUEEKGmVYoU",
        "colab_type": "code",
        "colab": {
          "base_uri": "https://localhost:8080/",
          "height": 295
        },
        "outputId": "9ceace9b-a6af-45d8-e385-dcc29a544391"
      },
      "source": [
        "new_model = tf.keras.models.load_model('best_modelB3b.h5')\n",
        "\n",
        "new_model.summary()"
      ],
      "execution_count": null,
      "outputs": [
        {
          "output_type": "stream",
          "text": [
            "Model: \"sequential_1\"\n",
            "_________________________________________________________________\n",
            "Layer (type)                 Output Shape              Param #   \n",
            "=================================================================\n",
            "efficientnet-b3 (Functional) (None, 4, 4, 1536)        10783528  \n",
            "_________________________________________________________________\n",
            "global_average_pooling2d_1 ( (None, 1536)              0         \n",
            "_________________________________________________________________\n",
            "dropout_1 (Dropout)          (None, 1536)              0         \n",
            "_________________________________________________________________\n",
            "dense_1 (Dense)              (None, 6)                 9222      \n",
            "=================================================================\n",
            "Total params: 10,792,750\n",
            "Trainable params: 10,705,454\n",
            "Non-trainable params: 87,296\n",
            "_________________________________________________________________\n"
          ],
          "name": "stdout"
        }
      ]
    },
    {
      "cell_type": "code",
      "metadata": {
        "id": "DW9V0NNg4PkF",
        "colab_type": "code",
        "colab": {
          "base_uri": "https://localhost:8080/",
          "height": 320
        },
        "outputId": "c692ab7f-5deb-47be-9620-f8f8b4bfbdb4"
      },
      "source": [
        "img = cv2.imread('/content/severe1.png')\n",
        "img.shape\n",
        "img = cv2.cvtColor(img, cv2.COLOR_BGR2RGB)\n",
        "new_array = cv2.resize(img, (128, 128))\n",
        "new_array = new_array/255\n",
        "\n",
        "print(new_array.shape)\n",
        "x = np.expand_dims(new_array, axis=0)\n",
        "print(x.shape)\n",
        "plt.imshow(new_array)"
      ],
      "execution_count": null,
      "outputs": [
        {
          "output_type": "stream",
          "text": [
            "(128, 128, 3)\n",
            "(1, 128, 128, 3)\n"
          ],
          "name": "stdout"
        },
        {
          "output_type": "execute_result",
          "data": {
            "text/plain": [
              "<matplotlib.image.AxesImage at 0x7f1e9118add8>"
            ]
          },
          "metadata": {
            "tags": []
          },
          "execution_count": 31
        },
        {
          "output_type": "display_data",
          "data": {
            "image/png": "[encoded data removed]",
            "text/plain": [
              "<Figure size 432x288 with 1 Axes>"
            ]
          },
          "metadata": {
            "tags": [],
            "needs_background": "light"
          }
        }
      ]
    },
    {
      "cell_type": "code",
      "metadata": {
        "id": "bKHl6h8vT6eF",
        "colab_type": "code",
        "colab": {
          "base_uri": "https://localhost:8080/",
          "height": 35
        },
        "outputId": "647f3225-4155-461b-c200-636aba3c8fa4"
      },
      "source": [
        "y = new_model.predict(x)\n",
        "y_classes = y.argmax(axis=-1)\n",
        "y_classes\n"
      ],
      "execution_count": null,
      "outputs": [
        {
          "output_type": "execute_result",
          "data": {
            "text/plain": [
              "array([5])"
            ]
          },
          "metadata": {
            "tags": []
          },
          "execution_count": 32
        }
      ]
    },
    {
      "cell_type": "code",
      "metadata": {
        "id": "EIwsLUFNYE0a",
        "colab_type": "code",
        "colab": {}
      },
      "source": [
        ""
      ],
      "execution_count": null,
      "outputs": []
    }
  ]
}